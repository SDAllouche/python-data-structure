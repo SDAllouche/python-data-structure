{
 "cells": [
  {
   "cell_type": "code",
   "execution_count": null,
   "id": "3c955754",
   "metadata": {},
   "outputs": [],
   "source": [
    "import numpy as np"
   ]
  },
  {
   "cell_type": "code",
   "execution_count": null,
   "id": "48ca662d",
   "metadata": {},
   "outputs": [],
   "source": [
    "def ajout(contact,id,name,address,phone,mail):\n",
    "    contact.append((id,name,address,phone,mail))\n",
    "    return contact"
   ]
  },
  {
   "cell_type": "code",
   "execution_count": null,
   "id": "299ca3f7",
   "metadata": {},
   "outputs": [],
   "source": [
    "contact=[]\n",
    "contact=ajout(contact,1,'salahedidne','casa','0654433221','salaheddine@gmail.com')\n",
    "contact=ajout(contact,3,'amine','casa','0654433221','amine@gmail.com')\n",
    "contact=ajout(contact,4,'ayoub','casa','0654433221','ayoub@gmail.com')\n",
    "contact=ajout(contact,2,'hamid','casa','0654433221','hamid@gmail.com')"
   ]
  },
  {
   "cell_type": "code",
   "execution_count": null,
   "id": "043c0e33",
   "metadata": {},
   "outputs": [],
   "source": [
    "contact"
   ]
  },
  {
   "cell_type": "code",
   "execution_count": null,
   "id": "1ccc1a1c",
   "metadata": {},
   "outputs": [],
   "source": [
    "def rechercheSeq(contact,order,x):\n",
    "    for i in range(len(contact)):\n",
    "        if contact[i][order]==x:\n",
    "            return 'Position :' + str(i+1)\n",
    "    return 'No result'"
   ]
  },
  {
   "cell_type": "code",
   "execution_count": null,
   "id": "3acc300c",
   "metadata": {},
   "outputs": [],
   "source": [
    "rechercheSeq(contact,0,4)"
   ]
  },
  {
   "cell_type": "code",
   "execution_count": null,
   "id": "9f4adcb1",
   "metadata": {},
   "outputs": [],
   "source": [
    "def triB(contact,order):\n",
    "    for i in range(len(contact)):\n",
    "        for j in range(len(contact)-i-1):\n",
    "            if contact[j][order]>contact[j+1][order]:\n",
    "                contact[j],contact[j+1]=contact[j+1],contact[j]"
   ]
  },
  {
   "cell_type": "code",
   "execution_count": null,
   "id": "42c1b2f1",
   "metadata": {},
   "outputs": [],
   "source": [
    "triB(contact,0)\n",
    "contact"
   ]
  },
  {
   "cell_type": "code",
   "execution_count": null,
   "id": "20dae1ee",
   "metadata": {},
   "outputs": [],
   "source": [
    "def triI(contact,order):\n",
    "    for i in range(1,len(contact)):\n",
    "        j=i-1\n",
    "        temp=contact[i]\n",
    "        while j>=0 and contact[j][order]>temp[order]:\n",
    "            contact[j+1]=contact[j]\n",
    "            j=j-1\n",
    "        contact[j+1]=temp"
   ]
  },
  {
   "cell_type": "code",
   "execution_count": null,
   "id": "8ba5e671",
   "metadata": {},
   "outputs": [],
   "source": [
    "triI(contact,1)\n",
    "contact"
   ]
  },
  {
   "cell_type": "code",
   "execution_count": null,
   "id": "aee7d683",
   "metadata": {},
   "outputs": [],
   "source": [
    "def triS(contact,order):\n",
    "    for i in range(len(contact)):\n",
    "        minim=i\n",
    "        for j in range(i+1,len(contact)):\n",
    "            if contact[minim][order]>contact[j][order]:\n",
    "                minim=j\n",
    "        temp=contact[i]\n",
    "        contact[i]=contact[minim]\n",
    "        contact[minim]=temp"
   ]
  },
  {
   "cell_type": "code",
   "execution_count": null,
   "id": "630a24f4",
   "metadata": {},
   "outputs": [],
   "source": [
    "triS(contact,0)\n",
    "contact"
   ]
  },
  {
   "cell_type": "code",
   "execution_count": null,
   "id": "7516aeaf",
   "metadata": {},
   "outputs": [],
   "source": [
    "def rechercheDeco(contact,order,x):\n",
    "    debut=0\n",
    "    fin=len(contact)-1\n",
    "    medium=(fin+debut)//2\n",
    "    while debut<fin:\n",
    "        if contact[medium][order]==x:\n",
    "            return 'Position : ' + str(medium+1)\n",
    "        elif contact[medium][order]>x:\n",
    "            fin=medium-1\n",
    "        elif contact[medium][order]<x:\n",
    "            debut=medium+1\n",
    "        medium=(fin+debut)//2\n",
    "    return 'No result'"
   ]
  },
  {
   "cell_type": "code",
   "execution_count": null,
   "id": "f4d5fce7",
   "metadata": {},
   "outputs": [],
   "source": [
    "rechercheDeco(contact,0,2)"
   ]
  },
  {
   "cell_type": "code",
   "execution_count": null,
   "id": "bcdfc712",
   "metadata": {},
   "outputs": [],
   "source": []
  }
 ],
 "metadata": {
  "kernelspec": {
   "display_name": "Python 3 (ipykernel)",
   "language": "python",
   "name": "python3"
  },
  "language_info": {
   "codemirror_mode": {
    "name": "ipython",
    "version": 3
   },
   "file_extension": ".py",
   "mimetype": "text/x-python",
   "name": "python",
   "nbconvert_exporter": "python",
   "pygments_lexer": "ipython3",
   "version": "3.9.7"
  }
 },
 "nbformat": 4,
 "nbformat_minor": 5
}
