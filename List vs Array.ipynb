{
 "cells": [
  {
   "cell_type": "code",
   "execution_count": null,
   "id": "82b8135d",
   "metadata": {},
   "outputs": [],
   "source": [
    "import numpy as np\n",
    "import random\n",
    "import time"
   ]
  },
  {
   "cell_type": "code",
   "execution_count": null,
   "id": "214b993e",
   "metadata": {},
   "outputs": [],
   "source": [
    "def produitListe(l1,l2):\n",
    "    \n",
    "    start_time = time.time()\n",
    "    \n",
    "    liste=[l1[i]*l2[i] for i in range(len(l1))]\n",
    "    #print(liste)\n",
    "    \n",
    "    print(\"%s seconds\" % (time.time() - start_time))"
   ]
  },
  {
   "cell_type": "code",
   "execution_count": null,
   "id": "586bb9be",
   "metadata": {},
   "outputs": [],
   "source": [
    "def produitArray(arr1,arr2):\n",
    "    \n",
    "    start_time = time.time()\n",
    "    \n",
    "    array=arr1*arr2\n",
    "    #print(array)\n",
    "\n",
    "    print(\"%s seconds\" % (time.time() - start_time))"
   ]
  },
  {
   "cell_type": "code",
   "execution_count": null,
   "id": "6686e297",
   "metadata": {},
   "outputs": [],
   "source": [
    "def randomCostum(size):\n",
    "    liste =[random.randint(1,9) for i in range(size)]\n",
    "    return (liste,np.asarray(liste))"
   ]
  },
  {
   "cell_type": "code",
   "execution_count": null,
   "id": "8c6a9c57",
   "metadata": {},
   "outputs": [],
   "source": [
    "l1,arr1=randomCostum(10000000)\n",
    "l2,arr2=randomCostum(10000000)"
   ]
  },
  {
   "cell_type": "code",
   "execution_count": null,
   "id": "720d9841",
   "metadata": {},
   "outputs": [],
   "source": [
    "produitListe(l1,l2)\n",
    "produitArray(arr1,arr2)"
   ]
  },
  {
   "cell_type": "code",
   "execution_count": null,
   "id": "6039daa3",
   "metadata": {},
   "outputs": [],
   "source": []
  }
 ],
 "metadata": {
  "kernelspec": {
   "display_name": "Python 3 (ipykernel)",
   "language": "python",
   "name": "python3"
  },
  "language_info": {
   "codemirror_mode": {
    "name": "ipython",
    "version": 3
   },
   "file_extension": ".py",
   "mimetype": "text/x-python",
   "name": "python",
   "nbconvert_exporter": "python",
   "pygments_lexer": "ipython3",
   "version": "3.9.7"
  }
 },
 "nbformat": 4,
 "nbformat_minor": 5
}
