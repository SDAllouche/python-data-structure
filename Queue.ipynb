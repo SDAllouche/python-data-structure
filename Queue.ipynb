{
 "cells": [
  {
   "cell_type": "markdown",
   "id": "c655a3ef",
   "metadata": {},
   "source": [
    "# Queue"
   ]
  },
  {
   "cell_type": "code",
   "execution_count": null,
   "id": "c9e85ed1",
   "metadata": {},
   "outputs": [],
   "source": [
    "class Queue:\n",
    "    \n",
    "    def __init__(self):\n",
    "        self.liste=[]\n",
    "        \n",
    "    def is_empty(self):\n",
    "        if self.liste:\n",
    "            return False\n",
    "        else :\n",
    "            return True\n",
    "        \n",
    "    def enqueue(self,val):\n",
    "        self.liste.append(val)\n",
    "        \n",
    "    \n",
    "    def dequeue(self):\n",
    "        if self.is_empty():\n",
    "            return \"Queue is empty\"\n",
    "        else:\n",
    "            return self.liste.pop(0)\n",
    "        \n",
    "    def get_head(self):\n",
    "        if self.is_empty():\n",
    "            return \"Queue is empty\"\n",
    "        else:\n",
    "            return self.liste[0]\n",
    "        \n",
    "    def get_queue(self):\n",
    "        return self.liste"
   ]
  },
  {
   "cell_type": "code",
   "execution_count": null,
   "id": "1d2fa222",
   "metadata": {},
   "outputs": [],
   "source": [
    "queue=Queue()\n",
    "queue.enqueue(1)\n",
    "queue.enqueue(11)\n",
    "queue.enqueue(23)\n",
    "queue.enqueue(466)\n",
    "queue.get_head()"
   ]
  },
  {
   "cell_type": "code",
   "execution_count": null,
   "id": "0ee9ad80",
   "metadata": {},
   "outputs": [],
   "source": [
    "queue.dequeue()"
   ]
  },
  {
   "cell_type": "code",
   "execution_count": null,
   "id": "d2ccde73",
   "metadata": {},
   "outputs": [],
   "source": [
    "queue.dequeue()"
   ]
  },
  {
   "cell_type": "code",
   "execution_count": null,
   "id": "369358a4",
   "metadata": {},
   "outputs": [],
   "source": [
    "queue.dequeue()"
   ]
  },
  {
   "cell_type": "code",
   "execution_count": null,
   "id": "5532e4d5",
   "metadata": {},
   "outputs": [],
   "source": [
    "queue.dequeue()"
   ]
  },
  {
   "cell_type": "code",
   "execution_count": null,
   "id": "85d760a6",
   "metadata": {},
   "outputs": [],
   "source": [
    "queue.dequeue()"
   ]
  },
  {
   "cell_type": "code",
   "execution_count": null,
   "id": "692a790c",
   "metadata": {},
   "outputs": [],
   "source": []
  }
 ],
 "metadata": {
  "kernelspec": {
   "display_name": "Python 3 (ipykernel)",
   "language": "python",
   "name": "python3"
  },
  "language_info": {
   "codemirror_mode": {
    "name": "ipython",
    "version": 3
   },
   "file_extension": ".py",
   "mimetype": "text/x-python",
   "name": "python",
   "nbconvert_exporter": "python",
   "pygments_lexer": "ipython3",
   "version": "3.9.7"
  }
 },
 "nbformat": 4,
 "nbformat_minor": 5
}
